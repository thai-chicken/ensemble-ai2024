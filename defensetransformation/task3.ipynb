{
 "cells": [
  {
   "cell_type": "markdown",
   "metadata": {},
   "source": [
    "# Start"
   ]
  },
  {
   "cell_type": "code",
   "execution_count": 17,
   "metadata": {},
   "outputs": [],
   "source": [
    "import os\n",
    "\n",
    "os.chdir(\"/net/tscratch/people/plglukaszst/projects/ensemble-ai2024/defensetransformation\")"
   ]
  },
  {
   "cell_type": "code",
   "execution_count": 18,
   "metadata": {},
   "outputs": [],
   "source": [
    "import numpy as np\n",
    "from torch.utils.data import Dataset, DataLoader\n",
    "import torch\n",
    "from torch import nn\n",
    "from torchmetrics.classification import Accuracy\n",
    "from datetime import datetime\n",
    "import requests"
   ]
  },
  {
   "cell_type": "markdown",
   "metadata": {},
   "source": [
    "# Data"
   ]
  },
  {
   "cell_type": "code",
   "execution_count": 19,
   "metadata": {},
   "outputs": [],
   "source": [
    "data_evaluate = np.load(\n",
    "    \"data/DefenseTransformationEvaluate.npz\"\n",
    ")\n",
    "\n",
    "data_submit = np.load(\"data/DefenseTransformationSubmit.npz\")"
   ]
  },
  {
   "cell_type": "code",
   "execution_count": 20,
   "metadata": {},
   "outputs": [],
   "source": [
    "LABELS_TRAIN = data_evaluate['labels']\n",
    "REPR_TRAIN = data_evaluate['representations']\n",
    "REPR_TEST = data_submit['representations']"
   ]
  },
  {
   "cell_type": "code",
   "execution_count": 21,
   "metadata": {},
   "outputs": [],
   "source": [
    "class DefenseTransformationDataset(Dataset):\n",
    "    def __init__(self, repr: np.ndarray, labels: np.ndarray):\n",
    "        self.repr = repr\n",
    "        self.labels = labels\n",
    "\n",
    "    def __len__(self):\n",
    "        return len(self.labels)\n",
    "\n",
    "    def __getitem__(self, idx):\n",
    "        repr = torch.from_numpy(self.repr[idx])\n",
    "        labels = torch.tensor(self.labels[idx])\n",
    "        return repr, labels"
   ]
  },
  {
   "cell_type": "code",
   "execution_count": 22,
   "metadata": {},
   "outputs": [],
   "source": [
    "def get_dl(ds: Dataset, batch_size: int) -> DataLoader:\n",
    "    gen = torch.Generator()\n",
    "    gen.manual_seed(0)\n",
    "    return DataLoader(ds, batch_size=batch_size, shuffle=True, generator=gen)"
   ]
  },
  {
   "cell_type": "code",
   "execution_count": 29,
   "metadata": {},
   "outputs": [],
   "source": [
    "N_EPOCHS = 20\n",
    "\n",
    "def finetune_classifier(model, dataloader):\n",
    "    optimizer = torch.optim.SGD(model.parameters(), lr=0.001, momentum=0.9)\n",
    "    loss_fn = nn.CrossEntropyLoss()\n",
    "    acc = Accuracy(num_classes=10, task='multiclass')\n",
    "\n",
    "    for epoch in range(N_EPOCHS):\n",
    "        last_loss = 0.0\n",
    "        model.train()\n",
    "        for batch_idx, batch in enumerate(dataloader):\n",
    "            repr, labels = batch\n",
    "            repr, labels = repr.to(\"cuda\"), labels.to(\"cuda\")\n",
    "\n",
    "            optimizer.zero_grad()\n",
    "            outputs = model(repr)\n",
    "            loss = loss_fn(outputs, labels)\n",
    "            loss.backward()\n",
    "            optimizer.step()\n",
    "\n",
    "        model.eval()\n",
    "        with torch.no_grad():\n",
    "            acc.reset()\n",
    "            for batch_idx, batch in enumerate(dataloader):\n",
    "                repr, labels = batch\n",
    "                repr, labels = repr.to(\"cuda\"), labels.to(\"cuda\")\n",
    "\n",
    "                outputs = model(repr)\n",
    "                loss = loss_fn(outputs, labels)\n",
    "                pred = outputs.argmax(dim=1).cpu()\n",
    "                acc.update(pred, labels.cpu())\n",
    "\n",
    "            print('Epoch {} loss: {}, accuracy: {}'.format(epoch, last_loss, acc.compute()))\n"
   ]
  },
  {
   "cell_type": "code",
   "execution_count": 30,
   "metadata": {},
   "outputs": [],
   "source": [
    "class Task3Model(nn.Module):\n",
    "    def __init__(self, feat_size=192):\n",
    "        super().__init__()\n",
    "        self.feat_size=feat_size\n",
    "        self.layer1 = nn.Sequential(nn.Linear(in_features=self.feat_size, out_features=128, bias=True), nn.Tanh())\n",
    "        self.layer2 = nn.Sequential(nn.Linear(in_features=128, out_features=32, bias=True), nn.Tanh())\n",
    "        self.layer3 = nn.Sequential(nn.Linear(in_features=32, out_features=10, bias=True))\n",
    "\n",
    "    def forward(self, x):\n",
    "        x = self.layer1(x)\n",
    "        x = self.layer2(x)\n",
    "        x = self.layer3(x)\n",
    "        return x"
   ]
  },
  {
   "cell_type": "code",
   "execution_count": null,
   "metadata": {},
   "outputs": [],
   "source": []
  },
  {
   "cell_type": "code",
   "execution_count": 193,
   "metadata": {},
   "outputs": [],
   "source": [
    "def transform_representations(repr: np.ndarray) -> np.ndarray:\n",
    "    def create_affine_transformation_matrix(size):\n",
    "        np.random.seed(42)  # Ensure reproducibility\n",
    "        # Creating a random matrix for linear transformation part\n",
    "        A = np.eye(size) + np.random.normal(0, 0.1, (size, size))\n",
    "        # Creating a random vector for translation part\n",
    "        b = np.random.normal(0, 1, size)\n",
    "        return A, b\n",
    "\n",
    "    def sigmoid(x):\n",
    "        return 1 / (1 + np.exp(-x))\n",
    "\n",
    "    def create_transformation_matrix(size):\n",
    "        np.random.seed(42)  # Ensure reproducibility\n",
    "        matrix = np.eye(size) + np.random.normal(0, 0.1, (size, size))\n",
    "        return matrix\n",
    "\n",
    "    repr_shift = np.roll(repr, -1)\n",
    "    repr_shift2 = np.roll(repr, -1)\n",
    "    repr_shift[-1] = 0\n",
    "    repr_shift2[-1] = 0\n",
    "    repr_shift_add = repr + repr_shift\n",
    "\n",
    "    repr = (repr + repr_shift_add)\n",
    "    repr = (repr - repr.mean(axis=1, keepdims=True)) / repr.std(axis=1, keepdims=True)\n",
    "    repr = np.dot(repr, create_transformation_matrix(repr.shape[1]))\n",
    "    A, b = create_affine_transformation_matrix(repr.shape[1])\n",
    "    repr = np.dot(repr, A) + b\n",
    "\n",
    "    for row in repr:\n",
    "        num_elements_to_modify = int(0.15 * len(row))\n",
    "        indices_gt_0 = np.where(row > 0)[0]\n",
    "        indices_le_0 = np.where(row <= 0)[0]\n",
    "\n",
    "        swap_indices_gt_0 = np.random.choice(indices_gt_0, num_elements_to_modify, replace=False)\n",
    "        swap_indices_le_0 = np.random.choice(indices_le_0, num_elements_to_modify, replace=False)\n",
    "        row[swap_indices_gt_0] = 1\n",
    "        row[swap_indices_le_0] = 0\n",
    "\n",
    "    return repr.astype('float32')"
   ]
  },
  {
   "cell_type": "code",
   "execution_count": 196,
   "metadata": {},
   "outputs": [],
   "source": [
    "ds_train = DefenseTransformationDataset(repr=REPR_TRAIN, labels=LABELS_TRAIN)\n",
    "ds_transform = DefenseTransformationDataset(repr=transform_representations(REPR_TRAIN), labels=LABELS_TRAIN)"
   ]
  },
  {
   "cell_type": "code",
   "execution_count": 197,
   "metadata": {},
   "outputs": [
    {
     "name": "stdout",
     "output_type": "stream",
     "text": [
      "Epoch 0 loss: 0.0, accuracy: 0.8537999987602234\n",
      "Epoch 1 loss: 0.0, accuracy: 0.9061999917030334\n",
      "Epoch 2 loss: 0.0, accuracy: 0.9254000186920166\n",
      "Epoch 3 loss: 0.0, accuracy: 0.9363999962806702\n",
      "Epoch 4 loss: 0.0, accuracy: 0.9444000124931335\n",
      "Epoch 5 loss: 0.0, accuracy: 0.9544000029563904\n",
      "Epoch 6 loss: 0.0, accuracy: 0.9595999717712402\n",
      "Epoch 7 loss: 0.0, accuracy: 0.965399980545044\n",
      "Epoch 8 loss: 0.0, accuracy: 0.97079998254776\n",
      "Epoch 9 loss: 0.0, accuracy: 0.972599983215332\n",
      "Epoch 10 loss: 0.0, accuracy: 0.977400004863739\n",
      "Epoch 11 loss: 0.0, accuracy: 0.9814000129699707\n",
      "Epoch 12 loss: 0.0, accuracy: 0.9829999804496765\n",
      "Epoch 13 loss: 0.0, accuracy: 0.9846000075340271\n",
      "Epoch 14 loss: 0.0, accuracy: 0.9868000149726868\n",
      "Epoch 15 loss: 0.0, accuracy: 0.9882000088691711\n",
      "Epoch 16 loss: 0.0, accuracy: 0.9894000291824341\n",
      "Epoch 17 loss: 0.0, accuracy: 0.9914000034332275\n",
      "Epoch 18 loss: 0.0, accuracy: 0.9923999905586243\n",
      "Epoch 19 loss: 0.0, accuracy: 0.993399977684021\n"
     ]
    }
   ],
   "source": [
    "torch.use_deterministic_algorithms(False)\n",
    "torch.manual_seed(0)\n",
    "np.random.seed(0)\n",
    "\n",
    "model = Task3Model(feat_size=192)\n",
    "model = model.to(\"cuda\")\n",
    "dl = get_dl(ds=ds_train, batch_size=32)\n",
    "finetune_classifier(model=model, dataloader=dl)"
   ]
  },
  {
   "cell_type": "code",
   "execution_count": 198,
   "metadata": {},
   "outputs": [
    {
     "name": "stdout",
     "output_type": "stream",
     "text": [
      "Epoch 0 loss: 0.0, accuracy: 0.7192000150680542\n",
      "Epoch 1 loss: 0.0, accuracy: 0.819599986076355\n",
      "Epoch 2 loss: 0.0, accuracy: 0.8555999994277954\n",
      "Epoch 3 loss: 0.0, accuracy: 0.8794000148773193\n",
      "Epoch 4 loss: 0.0, accuracy: 0.895799994468689\n",
      "Epoch 5 loss: 0.0, accuracy: 0.9079999923706055\n",
      "Epoch 6 loss: 0.0, accuracy: 0.9154000282287598\n",
      "Epoch 7 loss: 0.0, accuracy: 0.9240000247955322\n",
      "Epoch 8 loss: 0.0, accuracy: 0.9308000206947327\n",
      "Epoch 9 loss: 0.0, accuracy: 0.9395999908447266\n",
      "Epoch 10 loss: 0.0, accuracy: 0.944599986076355\n",
      "Epoch 11 loss: 0.0, accuracy: 0.9491999745368958\n",
      "Epoch 12 loss: 0.0, accuracy: 0.9538000226020813\n",
      "Epoch 13 loss: 0.0, accuracy: 0.9584000110626221\n",
      "Epoch 14 loss: 0.0, accuracy: 0.9621999859809875\n",
      "Epoch 15 loss: 0.0, accuracy: 0.9664000272750854\n",
      "Epoch 16 loss: 0.0, accuracy: 0.9688000082969666\n",
      "Epoch 17 loss: 0.0, accuracy: 0.9706000089645386\n",
      "Epoch 18 loss: 0.0, accuracy: 0.9751999974250793\n",
      "Epoch 19 loss: 0.0, accuracy: 0.9779999852180481\n"
     ]
    }
   ],
   "source": [
    "torch.use_deterministic_algorithms(False)\n",
    "torch.manual_seed(0)\n",
    "np.random.seed(0)\n",
    "\n",
    "model = Task3Model(feat_size=192)\n",
    "model = model.to(\"cuda\")\n",
    "dl = get_dl(ds=ds_transform, batch_size=32)\n",
    "finetune_classifier(model=model, dataloader=dl)"
   ]
  },
  {
   "cell_type": "code",
   "execution_count": 199,
   "metadata": {},
   "outputs": [],
   "source": [
    "def create_npz(repr_to_save):\n",
    "    time_now_str = datetime.now().strftime(\"%Y%m%d_%H%M%S\")\n",
    "    path = f\"task3_{time_now_str}.npz\"\n",
    "    np.savez(\n",
    "        path,\n",
    "        representations=repr_to_save\n",
    "    )\n",
    "    return path"
   ]
  },
  {
   "cell_type": "code",
   "execution_count": 200,
   "metadata": {},
   "outputs": [],
   "source": [
    "path = create_npz(transform_representations(REPR_TEST))"
   ]
  },
  {
   "cell_type": "code",
   "execution_count": 201,
   "metadata": {},
   "outputs": [],
   "source": [
    "def defense_submit(path_to_npz_file: str):\n",
    "    SERVER_URL = \"http://34.71.138.79:9090\"\n",
    "    TEAM_TOKEN = \"8J40ASDQOjfeeSKL\"\n",
    "\n",
    "    endpoint = \"/defense/submit\"\n",
    "    url = SERVER_URL + endpoint\n",
    "\n",
    "    with open(path_to_npz_file, \"rb\") as f:\n",
    "        response = requests.post(url, files={\"file\": f}, headers={\"token\": TEAM_TOKEN})\n",
    "        if response.status_code == 200:\n",
    "            print(\"Request ok\")\n",
    "            print(response.json())\n",
    "        else:\n",
    "            raise Exception(\n",
    "                f\"Defense submit failed. Code: {response.status_code}, content: {response.json()}\"\n",
    "            )"
   ]
  },
  {
   "cell_type": "code",
   "execution_count": 225,
   "metadata": {},
   "outputs": [],
   "source": [
    "defense_submit(path)"
   ]
  },
  {
   "cell_type": "code",
   "execution_count": null,
   "metadata": {},
   "outputs": [],
   "source": []
  },
  {
   "cell_type": "code",
   "execution_count": null,
   "metadata": {},
   "outputs": [],
   "source": []
  },
  {
   "cell_type": "code",
   "execution_count": null,
   "metadata": {},
   "outputs": [],
   "source": []
  }
 ],
 "metadata": {
  "kernelspec": {
   "display_name": "Python 3 (ipykernel)",
   "language": "python",
   "name": "python3"
  },
  "language_info": {
   "codemirror_mode": {
    "name": "ipython",
    "version": 3
   },
   "file_extension": ".py",
   "mimetype": "text/x-python",
   "name": "python",
   "nbconvert_exporter": "python",
   "pygments_lexer": "ipython3",
   "version": "3.9.18"
  }
 },
 "nbformat": 4,
 "nbformat_minor": 2
}
