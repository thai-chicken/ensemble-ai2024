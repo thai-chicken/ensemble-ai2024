{
 "cells": [
  {
   "cell_type": "code",
   "execution_count": null,
   "metadata": {},
   "outputs": [],
   "source": [
    "import requests\n",
    "import torch\n",
    "import os\n",
    "os.chdir(\"/Users/mszszczepanowski/repos/ensemble-ai2024/modelstealing\")\n",
    "from taskdataset import TaskDataset\n",
    "from torchvision import transforms as T\n",
    "import matplotlib.pyplot as plt\n",
    "import json\n",
    "from tqdm import tqdm\n",
    "import time\n",
    "import pickle\n",
    "import numpy as np"
   ]
  },
  {
   "cell_type": "code",
   "execution_count": null,
   "metadata": {},
   "outputs": [],
   "source": [
    "TEAM_TOKEN = \"8J40ASDQOjfeeSKL\"\n",
    "SERVER_URL = \"http://34.71.138.79:9090\""
   ]
  },
  {
   "cell_type": "code",
   "execution_count": null,
   "metadata": {},
   "outputs": [],
   "source": [
    "class NoiseDetector:\n",
    "    def __init__(self, images):\n",
    "        # images -> list[images as a tensor]\n",
    "        self.images = images\n",
    "        self.base_img = self.images[0]\n",
    "\n",
    "        self.base_representation = self.invoke_endpoint(image=self.base_img)\n",
    "\n",
    "        self.mse_history = []\n",
    "        self.images_representations = []\n",
    "        self.ids = []\n",
    "\n",
    "        self.images_to_save = []\n",
    "\n",
    "    def save_tensor_as_png_file(self, img_tensor, path_to_png_file):\n",
    "        img_pil = T.ToPILImage()(img_tensor)\n",
    "        img_pil.save(path_to_png_file)\n",
    "\n",
    "    def calculate_mse(self, vector1, vector2):\n",
    "        sum_of_squares = sum((v1 - v2) ** 2 for v1, v2 in zip(vector1, vector2))\n",
    "        return sum_of_squares / len(vector1)\n",
    "\n",
    "    def invoke_endpoint(self, image, path_to_png_file=\"img.png\"):\n",
    "        self.save_tensor_as_png_file(image, path_to_png_file=path_to_png_file)\n",
    "        ENDPOINT = \"/modelstealing\"\n",
    "        URL = SERVER_URL + ENDPOINT\n",
    "\n",
    "        with open(path_to_png_file, \"rb\") as img_file:\n",
    "            response = requests.get(\n",
    "                URL, files={\"file\": img_file}, headers={\"token\": TEAM_TOKEN}\n",
    "            )\n",
    "\n",
    "            if response.status_code == 200:\n",
    "                return json.loads(response.content.decode())[\"representation\"]\n",
    "            else:\n",
    "                raise Exception(f\"Request failed. Status code: {response.status_code}, content: {response.content}\")\n",
    "    \n",
    "    def run(self):\n",
    "        base_representation_mse = 0\n",
    "        pbar = tqdm(enumerate(self.images))\n",
    "        for i, img in pbar:\n",
    "            pbar.set_description(f\"MSE: {base_representation_mse}\")\n",
    "            try:\n",
    "                img_representation = self.invoke_endpoint(image=img)\n",
    "\n",
    "                # Get MSE between first representation of the base image vs the nw one\n",
    "                if i % 5 == 0:\n",
    "                    new_base_img_representation = self.invoke_endpoint(image=self.base_img)\n",
    "                    base_representation_mse = self.calculate_mse(new_base_img_representation, self.base_representation)\n",
    "            except Exception as e:\n",
    "                print(e)\n",
    "                time.sleep(3)\n",
    "                continue\n",
    "            self.images_representations.append(torch.from_numpy(np.array(img_representation)))\n",
    "            self.mse_history.append(base_representation_mse)\n",
    "            self.images_to_save.append(img)\n",
    "            self.ids.append(i)\n",
    "            if i % 100 == 0:\n",
    "                stacked_reprs = torch.stack(self.images_representations)\n",
    "                stacked_imgs = torch.stack(self.images_to_save)\n",
    "\n",
    "                torch.save(stacked_reprs, 'stacked_reprs_new5.pt')\n",
    "                torch.save(stacked_imgs, 'stacked_imgs_new5.pt')\n",
    "                print(f\"stacked_images shape -> {stacked_imgs.shape}\")\n",
    "                print(f\"stacked_reprs shape -> {stacked_reprs.shape}\")"
   ]
  },
  {
   "cell_type": "code",
   "execution_count": null,
   "metadata": {},
   "outputs": [],
   "source": [
    "# dataset = torch.load(\"xd_images.pt\")\n",
    "dataset = torch.load(\"ModelStealingPub.pt\")\n",
    "all_images = [T.ToTensor()(img.convert(\"RGB\")) for _, img, _ in dataset]\n",
    "all_images = all_images[8000:]\n",
    "len(all_images)"
   ]
  },
  {
   "cell_type": "code",
   "execution_count": null,
   "metadata": {},
   "outputs": [],
   "source": [
    "noise_detector = NoiseDetector(images=all_images)"
   ]
  },
  {
   "cell_type": "code",
   "execution_count": null,
   "metadata": {},
   "outputs": [],
   "source": [
    "noise_detector.run()"
   ]
  },
  {
   "cell_type": "markdown",
   "metadata": {},
   "source": [
    "# Plotting MSE history"
   ]
  },
  {
   "cell_type": "code",
   "execution_count": null,
   "metadata": {},
   "outputs": [],
   "source": [
    "plt.figure(figsize=(10, 6))\n",
    "plt.plot(noise_detector.mse_history, marker='o', linestyle='-', color='b')\n",
    "plt.title('History of Mean Square Error (MSE)')\n",
    "plt.xlabel('Epoch')\n",
    "plt.ylabel('MSE')\n",
    "plt.grid(True)\n",
    "plt.show()"
   ]
  }
 ],
 "metadata": {
  "kernelspec": {
   "display_name": ".venv",
   "language": "python",
   "name": "python3"
  },
  "language_info": {
   "codemirror_mode": {
    "name": "ipython",
    "version": 3
   },
   "file_extension": ".py",
   "mimetype": "text/x-python",
   "name": "python",
   "nbconvert_exporter": "python",
   "pygments_lexer": "ipython3",
   "version": "3.9.18"
  }
 },
 "nbformat": 4,
 "nbformat_minor": 2
}
